{
 "cells": [
  {
   "cell_type": "code",
   "execution_count": null,
   "metadata": {},
   "outputs": [],
   "source": [
    "%reset -f"
   ]
  },
  {
   "cell_type": "code",
   "execution_count": null,
   "metadata": {},
   "outputs": [],
   "source": [
    "import torch\n",
    "import torch.nn as nn\n",
    "import numpy as np\n",
    "import scipy.io as reader\n",
    "from matplotlib import pyplot as plt \n",
    "import utils\n",
    "device = torch.device(\"cuda:0\" if torch.cuda.is_available() else \"cpu\")"
   ]
  },
  {
   "cell_type": "code",
   "execution_count": null,
   "metadata": {},
   "outputs": [],
   "source": [
    "class Net(nn.Module):\n",
    "    def __init__(self, layers):\n",
    "        super(Net, self).__init__()\n",
    "        self.layers = layers\n",
    "        self.iter = 0\n",
    "        self.activation = nn.Tanh()\n",
    "        self.linear = nn.ModuleList([nn.Linear(layers[i], layers[i + 1]) for i in range(len(layers) - 1)])\n",
    "        for i in range(len(layers) - 1):\n",
    "            nn.init.xavier_normal_(self.linear[i].weight.data, gain=1.0)\n",
    "            nn.init.zeros_(self.linear[i].bias.data)\n",
    "\n",
    "    def forward(self, x):\n",
    "        if not torch.is_tensor(x):\n",
    "            x = torch.from_numpy(x)\n",
    "        a = self.activation(self.linear[0](x))\n",
    "        for i in range(1, len(self.layers) - 2):\n",
    "            z = self.linear[i](a)\n",
    "            a = self.activation(z)\n",
    "        a = self.linear[-1](a)\n",
    "        return a"
   ]
  },
  {
   "cell_type": "code",
   "execution_count": null,
   "metadata": {},
   "outputs": [],
   "source": [
    "def exact_u(x):\n",
    "    return x[:, [1]] * np.cos(5 * np.pi * x[:, [0]]) + np.power(x[:, [1]] * x[:, [0]], 3)"
   ]
  },
  {
   "cell_type": "code",
   "execution_count": null,
   "metadata": {},
   "outputs": [],
   "source": [
    "def get_kg_data(exact_u):\n",
    "    x = np.expand_dims(np.linspace(0, 1, 100), axis=1)\n",
    "    t = np.expand_dims(np.linspace(0, 1, 100), axis=1)\n",
    "    X, T = np.meshgrid(x, t)\n",
    "    x_test_np = np.concatenate(\n",
    "        (np.vstack(np.expand_dims(X, axis=2)), \n",
    "         np.vstack(np.expand_dims(T, axis=2))), axis=-1)\n",
    "    usol = exact_u(x_test_np)\n",
    "    x = torch.from_numpy(x).float().to(device)\n",
    "    t = torch.from_numpy(t).float().to(device)\n",
    "    x_test = torch.from_numpy(x_test_np).float().to(device)\n",
    "    x_test_exact = torch.from_numpy(usol).float().to(device)\n",
    "    return x, t, x_test, x_test_exact"
   ]
  },
  {
   "cell_type": "code",
   "execution_count": null,
   "metadata": {},
   "outputs": [],
   "source": [
    "x, t, x_test_point, x_test_exact = get_kg_data(exact_u)\n",
    "Exact = x_test_exact.cpu().detach().numpy().reshape(100, 100)"
   ]
  },
  {
   "cell_type": "code",
   "execution_count": null,
   "metadata": {},
   "outputs": [],
   "source": [
    "net = Net([2, 20, 20, 20, 20, 1]).to(device)\n",
    "net.load_state_dict(torch.load('./best_model2kg.pth'))"
   ]
  },
  {
   "cell_type": "code",
   "execution_count": null,
   "metadata": {},
   "outputs": [],
   "source": [
    "from pyDOE import lhs\n",
    "lb = np.array([0.0, 0.0])\n",
    "ub = np.array([1.0, 1.0])\n",
    "def random_fun(num):\n",
    "    temp = torch.from_numpy(lb + (ub - lb) * lhs(2, num)).float().to(device)\n",
    "    return temp"
   ]
  },
  {
   "cell_type": "code",
   "execution_count": null,
   "metadata": {},
   "outputs": [],
   "source": [
    "imgl = net(x_test_point).reshape([100,100])"
   ]
  },
  {
   "cell_type": "code",
   "execution_count": null,
   "metadata": {},
   "outputs": [],
   "source": [
    "plt.imshow(imgl.cpu().detach().numpy(), aspect='auto', cmap='jet')"
   ]
  },
  {
   "cell_type": "code",
   "execution_count": null,
   "metadata": {},
   "outputs": [],
   "source": [
    "j0 = 0\n",
    "J = 7\n",
    "e = 0.1"
   ]
  },
  {
   "cell_type": "code",
   "execution_count": null,
   "metadata": {},
   "outputs": [],
   "source": [
    "xc1 = torch.arange(lb[1], ub[1], 1/imgl.shape[0]).reshape((-1,1)).to(device)\n",
    "xr1 = torch.arange(lb[0], ub[0], 1/imgl.shape[1]).reshape((-1,1)).to(device)\n",
    "iwtmodel = utils.torchIWT(j0, J, e).to(device)\n",
    "approx, indicies = iwtmodel.get_Iwt2d(imgl, xc1, xr1)\n",
    "l=-1\n",
    "utils.show_approx(imgl.cpu().detach().numpy(), approx.cpu().detach().numpy(), indicies, level_points=l, s=1, cmap='gray', show_2d_points=True, al=0.2)\n",
    "utils.show_3d_points(approx.cpu().detach().numpy(), indicies, level_points=l)"
   ]
  },
  {
   "cell_type": "code",
   "execution_count": null,
   "metadata": {},
   "outputs": [],
   "source": [
    "err = np.linalg.norm(imgl.cpu().detach().numpy() - Exact, 2) / np.linalg.norm(Exact, 2) \n",
    "print('Relative L2 error: {:.4e}'.format(err))"
   ]
  },
  {
   "cell_type": "code",
   "execution_count": null,
   "metadata": {},
   "outputs": [],
   "source": [
    "x_test_pred = net(x_test_point)\n",
    "x_test_pred = x_test_pred.reshape(x.shape[0], t.shape[0])\n",
    "x_test_pred = x_test_pred.to('cpu').detach().numpy()\n",
    "x_test_exact = x_test_exact.reshape(x.shape[0], t.shape[0])\n",
    "x_test_exact = x_test_exact.to('cpu').detach().numpy()\n",
    "x1 = x.cpu().detach().numpy()\n",
    "t1 = t.cpu().detach().numpy()\n",
    "plt.figure()\n",
    "plt.plot(x1, x_test_pred[:, 0], label='pred', linestyle='--')\n",
    "plt.plot(x1, x_test_exact[:, 0], label='exact')\n",
    "plt.ylim([-0.1, 1.1])\n",
    "plt.legend()\n",
    "plt.figure()\n",
    "plt.plot(x1, x_test_pred[:, 25], label='pred', linestyle='--')\n",
    "plt.plot(x1, x_test_exact[:, 25], label='exact')\n",
    "plt.ylim([-1.0, 0.1])\n",
    "plt.legend()\n",
    "plt.figure()\n",
    "plt.plot(x1, x_test_pred[:, 50], label='pred', linestyle='--')\n",
    "plt.plot(x1, x_test_exact[:, 50], label='exact')\n",
    "plt.ylim([-0.1, 1.1])\n",
    "plt.legend()\n",
    "plt.figure()\n",
    "plt.plot(x1, x_test_pred[:, -1], label='pred', linestyle='--')\n",
    "plt.plot(x1, x_test_exact[:, -1], label='exact')\n",
    "plt.ylim([-1.0, 0.1])\n",
    "plt.legend()"
   ]
  },
  {
   "cell_type": "code",
   "execution_count": null,
   "metadata": {},
   "outputs": [],
   "source": [
    "plt.imshow(np.abs(x_test_pred - x_test_exact), aspect='auto', cmap='jet')\n",
    "plt.colorbar()\n",
    "plt.title('L2 error: {:.4e}'.format(err), fontsize=20)\n",
    "plt.show()"
   ]
  },
  {
   "cell_type": "code",
   "execution_count": null,
   "metadata": {},
   "outputs": [],
   "source": [
    "# scatter indicies\n",
    "idxn = []\n",
    "for i in indicies:\n",
    "    idxn = idxn + i\n",
    "idxn = torch.tensor(idxn).to(device).float()\n",
    "plt.plot(idxn[:, [1]].cpu().numpy(), idxn[:, [0]].cpu().numpy(), 'ro', markersize=4)\n",
    "plt.gca().invert_yaxis()\n",
    "\n",
    "idxn = []\n",
    "for i in indicies:\n",
    "    idxn = idxn + i\n",
    "idxn = torch.tensor(idxn).to(device).float()\n",
    "\n",
    "from scipy.stats import gaussian_kde\n",
    "kde = gaussian_kde(idxn.cpu().T)\n",
    "expanded_idxns = kde.resample(1000).T\n",
    "expanded_idxns = torch.tensor(expanded_idxns).float().to(device)\n",
    "k = torch.cat((idxn, expanded_idxns), dim=0)\n",
    "k = k[(k[:, 0] >= 0) & (k[:, 0] <= 99) & (k[:, 1] >= 0) & (k[:, 1] <= 99)]\n",
    "\n",
    "plt.figure()\n",
    "plt.plot(k[:, [1]].cpu().numpy(), k[:, [0]].cpu().numpy(), 'ro', markersize=4)\n",
    "plt.gca().invert_yaxis()"
   ]
  },
  {
   "cell_type": "code",
   "execution_count": null,
   "metadata": {},
   "outputs": [],
   "source": [
    "x_init = random_fun(100000)\n",
    "x_init = torch.tensor(x_init, requires_grad=True).float().to(device)\n",
    "u =net(x_init)\n",
    "x_init.requires_grad = True\n",
    "dx = torch.autograd.grad(u, x_init, grad_outputs=torch.ones_like(u), create_graph=True,allow_unused=True)[0]\n",
    "grad_x1 = dx[:, [0]].squeeze()\n",
    "grad_x2 = dx[:, [1]].squeeze()\n",
    "dx = torch.sqrt(1 + grad_x1 ** 2 + grad_x2 ** 2).cpu().detach().numpy()\n",
    "err_dx = np.power(dx, 1) / np.power(dx, 1).mean()\n",
    "p = (err_dx / sum(err_dx))\n",
    "X_ids = np.random.choice(a=len(x_init), size=1000, replace=False, p=p)\n",
    "x_f_M = x_init[X_ids]\n",
    "plt.figure()\n",
    "plt.plot(x_f_M.cpu().detach().numpy()[:, 0], x_f_M.cpu().detach().numpy()[:, 1], 'ro', markersize=4)\n",
    "plt.gca().invert_yaxis()"
   ]
  }
 ],
 "metadata": {
  "kernelspec": {
   "display_name": "base",
   "language": "python",
   "name": "python3"
  },
  "language_info": {
   "codemirror_mode": {
    "name": "ipython",
    "version": 3
   },
   "file_extension": ".py",
   "mimetype": "text/x-python",
   "name": "python",
   "nbconvert_exporter": "python",
   "pygments_lexer": "ipython3",
   "version": "3.11.4"
  },
  "orig_nbformat": 4
 },
 "nbformat": 4,
 "nbformat_minor": 2
}
