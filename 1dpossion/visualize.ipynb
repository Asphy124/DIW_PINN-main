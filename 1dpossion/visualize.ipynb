{
 "cells": [
  {
   "cell_type": "code",
   "execution_count": 1,
   "metadata": {},
   "outputs": [],
   "source": [
    "%reset -f"
   ]
  },
  {
   "cell_type": "code",
   "execution_count": 2,
   "metadata": {},
   "outputs": [],
   "source": [
    "import torch\n",
    "import torch.nn as nn\n",
    "import numpy as np\n",
    "import scipy.io as reader\n",
    "from matplotlib import pyplot as plt \n",
    "import utils\n",
    "\n",
    "device = torch.device(\"cuda:0\" if torch.cuda.is_available() else \"cpu\")\n",
    "# device = torch.device(\"cpu\")"
   ]
  },
  {
   "cell_type": "code",
   "execution_count": 3,
   "metadata": {},
   "outputs": [],
   "source": [
    "class Net(nn.Module):\n",
    "    def __init__(self, layers):\n",
    "        super(Net, self).__init__()\n",
    "        self.layers = layers\n",
    "        self.activation = nn.Tanh()\n",
    "        self.linear = nn.ModuleList([nn.Linear(layers[i], layers[i + 1]) for i in range(len(layers) - 1)])\n",
    "        for i in range(len(layers) - 1):\n",
    "            nn.init.xavier_normal_(self.linear[i].weight.data, gain=1.0)\n",
    "            nn.init.zeros_(self.linear[i].bias.data)\n",
    "    def forward(self, x):\n",
    "        a = self.activation(self.linear[0](x))\n",
    "        for i in range(1, len(self.layers) - 2):\n",
    "            z = self.linear[i](a)\n",
    "            a = self.activation(z)\n",
    "        a = self.linear[-1](a)\n",
    "        return a"
   ]
  },
  {
   "cell_type": "code",
   "execution_count": 4,
   "metadata": {},
   "outputs": [],
   "source": [
    "def get_possion_data(Nf, Nt):\n",
    "    x_f = torch.linspace(-1, 1, Nf).unsqueeze(-1).to(device)\n",
    "    x_test = torch.linspace(-1, 1, Nt).unsqueeze(-1).to(device)\n",
    "    x_test_exact = 0.1 * torch.sin(4 * torch.pi * x_test) + torch.tanh(50 * x_test)\n",
    "    x_test_exact = x_test_exact.to(device)\n",
    "    x_label = torch.tensor([[-1], [1]]).float().to(device)\n",
    "    x_labels = 0.1 * torch.sin(4 * torch.pi * x_label) + torch.tanh(50 * x_label)\n",
    "    x_labels = x_labels.to(device)\n",
    "    return x_f, x_test, x_test_exact, x_label, x_labels"
   ]
  },
  {
   "cell_type": "code",
   "execution_count": 5,
   "metadata": {},
   "outputs": [],
   "source": [
    "Nf = 400\n",
    "Nt = 10000\n",
    "x, x_test_point, x_test_exact, x_bc, u_bc = get_possion_data(Nf, Nt)"
   ]
  },
  {
   "cell_type": "code",
   "execution_count": 6,
   "metadata": {},
   "outputs": [
    {
     "data": {
      "text/plain": [
       "Net(\n",
       "  (activation): Tanh()\n",
       "  (linear): ModuleList(\n",
       "    (0): Linear(in_features=1, out_features=20, bias=True)\n",
       "    (1-3): 3 x Linear(in_features=20, out_features=20, bias=True)\n",
       "    (4): Linear(in_features=20, out_features=1, bias=True)\n",
       "  )\n",
       ")"
      ]
     },
     "execution_count": 6,
     "metadata": {},
     "output_type": "execute_result"
    }
   ],
   "source": [
    "# 载入best_model.pth\n",
    "layers = [1, 20, 20, 20, 20, 1]\n",
    "net = Net(layers)\n",
    "net.load_state_dict(torch.load('./best_model.pth'))\n",
    "net.to(device)"
   ]
  },
  {
   "cell_type": "code",
   "execution_count": 7,
   "metadata": {},
   "outputs": [],
   "source": [
    "x_test_pred = net(x_test_point)"
   ]
  },
  {
   "cell_type": "code",
   "execution_count": 8,
   "metadata": {},
   "outputs": [],
   "source": [
    "j0 = 0\n",
    "J = 5\n",
    "e = 0.003"
   ]
  },
  {
   "cell_type": "code",
   "execution_count": 9,
   "metadata": {},
   "outputs": [
    {
     "data": {
      "text/plain": [
       "<matplotlib.collections.PathCollection at 0x1868709fd90>"
      ]
     },
     "execution_count": 9,
     "metadata": {},
     "output_type": "execute_result"
    },
    {
     "data": {
      "image/png": "[encoded data removed]",
      "text/plain": [
       "<Figure size 640x480 with 1 Axes>"
      ]
     },
     "metadata": {},
     "output_type": "display_data"
    }
   ],
   "source": [
    "plt.plot(x_test_point.detach().cpu().numpy(), x_test_exact.detach().cpu().numpy(), label='PINN')\n",
    "plt.plot(x_test_point.detach().cpu().numpy(), x_test_pred.detach().cpu().numpy(), label='True')\n",
    "\n",
    "iwtmodel = utils.torchIWT(j0, J, e)\n",
    "iwtmodel = iwtmodel.to(device)\n",
    "approx, indicies = iwtmodel.get_Iwt2d(x_test_pred, x_test_point, torch.tensor([[1.0]]).to(device))\n",
    "\n",
    "idxn = []\n",
    "for i in indicies:\n",
    "    idxn = idxn + i\n",
    "idxn = torch.tensor(idxn).to(device).float()\n",
    "# 突出显示的点\n",
    "plt.scatter(x_test_point[idxn[:,0].long()].detach().cpu().numpy(), x_test_pred[idxn[:,0].long()].detach().cpu().numpy(), c='r', s=10, label='IWT')"
   ]
  },
  {
   "cell_type": "code",
   "execution_count": 10,
   "metadata": {},
   "outputs": [
    {
     "name": "stdout",
     "output_type": "stream",
     "text": [
      "Relative L2 error: 1.6052e-03\n"
     ]
    }
   ],
   "source": [
    "err = np.linalg.norm(x_test_pred.cpu().detach().numpy() - x_test_exact.cpu().detach().numpy(), 2) / np.linalg.norm(x_test_exact.cpu().detach().numpy(), 2)\n",
    "print('Relative L2 error: {:.4e}'.format(err))"
   ]
  }
 ],
 "metadata": {
  "kernelspec": {
   "display_name": "base",
   "language": "python",
   "name": "python3"
  },
  "language_info": {
   "codemirror_mode": {
    "name": "ipython",
    "version": 3
   },
   "file_extension": ".py",
   "mimetype": "text/x-python",
   "name": "python",
   "nbconvert_exporter": "python",
   "pygments_lexer": "ipython3",
   "version": "3.11.4"
  },
  "orig_nbformat": 4
 },
 "nbformat": 4,
 "nbformat_minor": 2
}
